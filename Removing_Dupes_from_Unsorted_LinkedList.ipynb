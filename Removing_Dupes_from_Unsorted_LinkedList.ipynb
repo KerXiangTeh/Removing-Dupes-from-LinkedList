{
  "nbformat": 4,
  "nbformat_minor": 0,
  "metadata": {
    "colab": {
      "provenance": [],
      "authorship_tag": "ABX9TyNDEqJM0iNvmX2NaC3gze5+",
      "include_colab_link": true
    },
    "kernelspec": {
      "name": "python3",
      "display_name": "Python 3"
    },
    "language_info": {
      "name": "python"
    }
  },
  "cells": [
    {
      "cell_type": "markdown",
      "metadata": {
        "id": "view-in-github",
        "colab_type": "text"
      },
      "source": [
        "<a href=\"https://colab.research.google.com/github/KerXiangTeh/Removing-Dupes-from-LinkedList/blob/main/Removing_Dupes_from_Unsorted_LinkedList.ipynb\" target=\"_parent\"><img src=\"https://colab.research.google.com/assets/colab-badge.svg\" alt=\"Open In Colab\"/></a>"
      ]
    },
    {
      "cell_type": "markdown",
      "source": [
        "This is a simple Python implementation to remove duplicate nodes from an unsorted linkedlist."
      ],
      "metadata": {
        "id": "3z2v_TQu9jdf"
      }
    },
    {
      "cell_type": "markdown",
      "source": [
        "*Data Structure*"
      ],
      "metadata": {
        "id": "Rsr0lboG9sm6"
      }
    },
    {
      "cell_type": "code",
      "execution_count": 6,
      "metadata": {
        "id": "9yXS2SVf9fMp"
      },
      "outputs": [],
      "source": [
        "class Node:\n",
        "  def __init__(self, value):\n",
        "    self.value = value\n",
        "    self.next = None"
      ]
    },
    {
      "cell_type": "markdown",
      "source": [
        "*Removal Function*"
      ],
      "metadata": {
        "id": "xTG004Zp932Q"
      }
    },
    {
      "cell_type": "code",
      "source": [
        "def remove_duplicates(head):\n",
        "  if head is None:\n",
        "    return None\n",
        "\n",
        "  visited = set()\n",
        "  current = head\n",
        "  previous = None\n",
        "\n",
        "  while current is not None:\n",
        "    if current.value in visited:\n",
        "      # remove current node\n",
        "      previous.next = current.next\n",
        "    else:\n",
        "      # add current value to visited set\n",
        "      visited.add(current.value)\n",
        "      # move previous pointer forward\n",
        "      previous = current\n",
        "    \n",
        "    # move current pointer forward\n",
        "    current = current.next\n",
        "  \n",
        "  return head"
      ],
      "metadata": {
        "id": "ynwpCvyu98IH"
      },
      "execution_count": 7,
      "outputs": []
    },
    {
      "cell_type": "markdown",
      "source": [
        "*example use case*"
      ],
      "metadata": {
        "id": "wl-P99jE-9LM"
      }
    },
    {
      "cell_type": "code",
      "source": [
        "# create a linked list with duplicate nodes\n",
        "head = Node(1)\n",
        "head.next = Node(2)\n",
        "head.next.next = Node(2)\n",
        "head.next.next.next = Node(3)\n",
        "head.next.next.next.next = Node(2)\n",
        "head.next.next.next.next.next = Node(4)\n",
        "\n",
        "# print original linked list\n",
        "current = head\n",
        "while current is not None:\n",
        "  print(current.value, end=' ')\n",
        "  current = current.next\n",
        "print()\n",
        "\n",
        "# output: 1 2 2 3 2 4\n",
        "\n",
        "# remove duplicates\n",
        "head = remove_duplicates(head)\n",
        "\n",
        "# print modified linked list\n",
        "current = head\n",
        "while current is not None:\n",
        "  print(current.value, end=' ')\n",
        "  current = current.next\n",
        "\n",
        "# output: 1 2 3 4"
      ],
      "metadata": {
        "colab": {
          "base_uri": "https://localhost:8080/"
        },
        "id": "yu4wtY2r_TT5",
        "outputId": "e5b4938d-c31a-4a74-da8a-1738cbf747db"
      },
      "execution_count": 8,
      "outputs": [
        {
          "output_type": "stream",
          "name": "stdout",
          "text": [
            "1 2 2 3 2 4 \n",
            "1 2 3 4 "
          ]
        }
      ]
    }
  ]
}